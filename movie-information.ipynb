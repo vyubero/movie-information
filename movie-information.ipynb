{
 "cells": [
  {
   "cell_type": "code",
   "execution_count": 5,
   "metadata": {},
   "outputs": [],
   "source": [
    "import imdb"
   ]
  },
  {
   "cell_type": "code",
   "execution_count": 9,
   "metadata": {},
   "outputs": [],
   "source": [
    "ia = imdb.Cinemagoer()\n",
    "Movie = input(\"Enter a movie name: \")\n",
    "items = ia.search_movie(movie)"
   ]
  },
  {
   "cell_type": "code",
   "execution_count": 41,
   "metadata": {},
   "outputs": [
    {
     "name": "stdout",
     "output_type": "stream",
     "text": [
      "1. Finding Nemo (2003)\n",
      "2. Finding Dory (2016)\n",
      "3. Finding Nemo (2003)\n",
      "4. Finding Nemo Submarine Voyage (2007)\n",
      "5. Finding Nemo (2022)\n",
      "6. Finding Nemo: Studio Tour of Pixar (2003)\n",
      "7. The Ultimate 'Finding Nemo' Recap Cartoon (2021)\n",
      "8. Making 'Nemo' (2003)\n",
      "9. Finding Nemo: A Filmmakers' Roundtable (2012)\n",
      "10. Finding Nemo: Nemo's Underwater World of Fun (2003)\n",
      "11. Finding Nemo: Fisharades (2003)\n",
      "12. Finding Nemo: Escape to the Big Blue (2006)\n",
      "13. Finding Nemo: The Continuing Adventures (2004)\n",
      "14. Finding Nemo (2008)\n",
      "15. Finding Nemo (2018)\n",
      "16. Finding Nemo (2023)\n",
      "17. Finding Nemo (2018)\n",
      "18. Finding Nemo (2023)\n",
      "19. Finding Nemo (unknown)\n",
      "20. Finding Nemo (2012)\n"
     ]
    }
   ],
   "source": [
    "for i, movie in enumerate(items):\n",
    "    title = movie.get('title', 'unknown')\n",
    "    year = movie.get('year', 'unknown')\n",
    "    print(f\"{i + 1}. {title} ({year})\")"
   ]
  },
  {
   "cell_type": "code",
   "execution_count": 20,
   "metadata": {},
   "outputs": [
    {
     "data": {
      "text/plain": [
       "[<Movie id:0266543[http] title:_Finding Nemo (2003)_>,\n",
       " <Movie id:2277860[http] title:_Finding Dory (2016)_>,\n",
       " <Movie id:0401422[http] title:_Finding Nemo (2003) (VG)_>,\n",
       " <Movie id:1319713[http] title:_Finding Nemo Submarine Voyage (2007) (V)_>,\n",
       " <Movie id:21358188[http] title:_Finding Nemo (2022)_>,\n",
       " <Movie id:1248974[http] title:_Finding Nemo: Studio Tour of Pixar (2003) (V)_>,\n",
       " <Movie id:13848922[http] title:_The Ultimate 'Finding Nemo' Recap Cartoon (2021)_>,\n",
       " <Movie id:0387373[http] title:_Making 'Nemo' (2003) (V)_>,\n",
       " <Movie id:10255922[http] title:_Finding Nemo: A Filmmakers' Roundtable (2012) (V)_>,\n",
       " <Movie id:18334372[http] title:_Finding Nemo: Nemo's Underwater World of Fun (2003) (VG)_>,\n",
       " <Movie id:28210149[http] title:_Finding Nemo: Fisharades (2003) (VG)_>,\n",
       " <Movie id:19754324[http] title:_Finding Nemo: Escape to the Big Blue (2006) (VG)_>,\n",
       " <Movie id:19754278[http] title:_Finding Nemo: The Continuing Adventures (2004) (VG)_>,\n",
       " <Movie id:13339500[http] title:_Finding Nemo (2008)_>,\n",
       " <Movie id:19402978[http] title:_Finding Nemo (2018)_>,\n",
       " <Movie id:32466349[http] title:_Finding Nemo (2023)_>,\n",
       " <Movie id:8132370[http] title:_Finding Nemo (2018)_>,\n",
       " <Movie id:28687427[http] title:_Finding Nemo (2023)_>,\n",
       " <Movie id:4137918[http] title:_Finding Nemo (None)_>,\n",
       " <Movie id:5289626[http] title:_Finding Nemo (2012)_>]"
      ]
     },
     "execution_count": 20,
     "metadata": {},
     "output_type": "execute_result"
    }
   ],
   "source": [
    "items"
   ]
  },
  {
   "cell_type": "code",
   "execution_count": null,
   "metadata": {},
   "outputs": [],
   "source": []
  }
 ],
 "metadata": {
  "kernelspec": {
   "display_name": "profiling",
   "language": "python",
   "name": "python3"
  },
  "language_info": {
   "codemirror_mode": {
    "name": "ipython",
    "version": 3
   },
   "file_extension": ".py",
   "mimetype": "text/x-python",
   "name": "python",
   "nbconvert_exporter": "python",
   "pygments_lexer": "ipython3",
   "version": "3.9.18"
  }
 },
 "nbformat": 4,
 "nbformat_minor": 2
}
