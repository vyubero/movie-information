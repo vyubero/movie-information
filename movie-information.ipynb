{
 "cells": [
  {
   "cell_type": "markdown",
   "metadata": {},
   "source": [
    "Info: https://github.com/MaximShidlovski23/imdbpy <br>\n",
    "IMDbPY manage data of the IMDb movie dataset about movies people and companies.<br>"
   ]
  },
  {
   "cell_type": "code",
   "execution_count": 1,
   "metadata": {},
   "outputs": [],
   "source": [
    "import imdb\n",
    "ia = imdb.Cinemagoer()"
   ]
  },
  {
   "cell_type": "code",
   "execution_count": 40,
   "metadata": {},
   "outputs": [],
   "source": [
    "movie = input('Enter a movie name: ')\n",
    "items = ia.search_movie(movie)"
   ]
  },
  {
   "cell_type": "code",
   "execution_count": 41,
   "metadata": {},
   "outputs": [
    {
     "name": "stdout",
     "output_type": "stream",
     "text": [
      "1.The Matrix (1999)\n",
      "2.The Matrix Resurrections (2021)\n",
      "3.The Matrix Reloaded (2003)\n",
      "4.The Matrix Revolutions (2003)\n",
      "5.Matrix (1993)\n",
      "6.Matrix 5 (no data)\n",
      "7.Matrix: Generation (2024)\n",
      "8.The Matrix Recalibrated (2004)\n",
      "9.A Glitch in the Matrix (2021)\n",
      "10.Threat Matrix (2003)\n",
      "11.Sex and the Matrix (2000)\n",
      "12.The Matrix: Reborn (2020)\n",
      "13.Free Your Mind: The Matrix Now (2023)\n",
      "14.Matrix (2020)\n",
      "15.Armitage III: Dual Matrix (2001)\n",
      "16.Armitage III: Poly-Matrix (1996)\n",
      "17.The Matrix Revisited (2001)\n",
      "18.Making 'The Matrix' (1999)\n",
      "19.Enter the Matrix (2003)\n",
      "20.The Matrix Redeemed (2020)\n"
     ]
    }
   ],
   "source": [
    "for index, movies in enumerate(items):\n",
    "    title = movies.get('title', 'no data')\n",
    "    year = movies.get('year', 'no data')\n",
    "    print(f\"{index + 1}.{title} ({year})\")"
   ]
  },
  {
   "cell_type": "code",
   "execution_count": 42,
   "metadata": {},
   "outputs": [],
   "source": [
    "movie_index = int(input('Enter the number of the movie you want to get info:')) - 1\n",
    "movie_id = items[movie_index].movieID\n",
    "movie_info = ia.get_movie(movie_id)"
   ]
  },
  {
   "cell_type": "code",
   "execution_count": 25,
   "metadata": {},
   "outputs": [
    {
     "name": "stdout",
     "output_type": "stream",
     "text": [
      "Movie Information\n"
     ]
    }
   ],
   "source": [
    "print('Movie Information')"
   ]
  },
  {
   "cell_type": "code",
   "execution_count": 43,
   "metadata": {},
   "outputs": [
    {
     "name": "stdout",
     "output_type": "stream",
     "text": [
      "Title: The Matrix\n",
      "Year: 1999\n",
      "Rating: 8.7\n",
      "Genres: ['Action', 'Sci-Fi']\n"
     ]
    }
   ],
   "source": [
    "print(f\"Title: {movie_info.get('title')}\")\n",
    "print(f\"Year: {movie_info.get('year')}\")\n",
    "print(f\"Rating: {movie_info.get('rating')}\")\n",
    "print(f\"Genres: {movie_info.get('genres')}\")\n"
   ]
  },
  {
   "cell_type": "code",
   "execution_count": 44,
   "metadata": {},
   "outputs": [
    {
     "data": {
      "text/plain": [
       "['localized title',\n",
       " 'cast',\n",
       " 'genres',\n",
       " 'runtimes',\n",
       " 'countries',\n",
       " 'country codes',\n",
       " 'language codes',\n",
       " 'color info',\n",
       " 'aspect ratio',\n",
       " 'sound mix',\n",
       " 'box office',\n",
       " 'certificates',\n",
       " 'original air date',\n",
       " 'rating',\n",
       " 'votes',\n",
       " 'cover url',\n",
       " 'imdbID',\n",
       " 'videos',\n",
       " 'plot outline',\n",
       " 'languages',\n",
       " 'title',\n",
       " 'year',\n",
       " 'kind',\n",
       " 'original title',\n",
       " 'director',\n",
       " 'writer',\n",
       " 'producer',\n",
       " 'composer',\n",
       " 'cinematographer',\n",
       " 'editor',\n",
       " 'editorial department',\n",
       " 'casting director',\n",
       " 'production design',\n",
       " 'art direction',\n",
       " 'set decoration',\n",
       " 'costume designer',\n",
       " 'make up',\n",
       " 'production manager',\n",
       " 'assistant director',\n",
       " 'art department',\n",
       " 'sound crew',\n",
       " 'special effects',\n",
       " 'visual effects',\n",
       " 'stunt performer',\n",
       " 'camera and electrical department',\n",
       " 'animation department',\n",
       " 'casting department',\n",
       " 'costume department',\n",
       " 'location management',\n",
       " 'music department',\n",
       " 'script department',\n",
       " 'transportation department',\n",
       " 'miscellaneous crew',\n",
       " 'akas',\n",
       " 'top 250 rank',\n",
       " 'production companies',\n",
       " 'distributors',\n",
       " 'special effects companies',\n",
       " 'other companies',\n",
       " 'plot',\n",
       " 'synopsis',\n",
       " 'canonical title',\n",
       " 'long imdb title',\n",
       " 'long imdb canonical title',\n",
       " 'smart canonical title',\n",
       " 'smart long imdb canonical title',\n",
       " 'full-size cover url']"
      ]
     },
     "execution_count": 44,
     "metadata": {},
     "output_type": "execute_result"
    }
   ],
   "source": [
    "movie_info.keys()"
   ]
  },
  {
   "cell_type": "code",
   "execution_count": null,
   "metadata": {},
   "outputs": [],
   "source": []
  }
 ],
 "metadata": {
  "kernelspec": {
   "display_name": "profiling",
   "language": "python",
   "name": "python3"
  },
  "language_info": {
   "codemirror_mode": {
    "name": "ipython",
    "version": 3
   },
   "file_extension": ".py",
   "mimetype": "text/x-python",
   "name": "python",
   "nbconvert_exporter": "python",
   "pygments_lexer": "ipython3",
   "version": "3.9.18"
  }
 },
 "nbformat": 4,
 "nbformat_minor": 2
}
